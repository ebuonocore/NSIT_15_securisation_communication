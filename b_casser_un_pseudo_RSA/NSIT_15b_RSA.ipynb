{
 "cells": [
  {
   "cell_type": "markdown",
   "metadata": {},
   "source": [
    "<div style=\"width:100%;border-collapse:separate;border:solid 2px;border-radius:14px;\">\n",
    "    <div style=\"display:flex;\">\n",
    "        <div style=\"display:inline;width:5%;\"></div>\n",
    "        <div style=\"display:inline;width:15%;\">NSIT</div>\n",
    "        <div style=\"display:inline;width:15%;\">15b</div>\n",
    "        <div style=\"display:inline;width:70%;text-align:right;\"><b>Architectures matérielles, systèmes d’exploitation et réseaux</b></div>\n",
    "        <div style=\"display:inline;width:5%;\"></div>\n",
    "    </div>\n",
    "    <div  style=\"display: flex;background-color:#EEE\">\n",
    "        <p style=\"width:100%;text-align:center;\">Sécurisation des communications</p>\n",
    "    </div>\n",
    "    <div  style=\"display: flex;\">\n",
    "        <p style=\"width:100%;text-align:center;\">Casser un pseudo-RSA</p>\n",
    "    </div>\n",
    "</div>"
   ]
  },
  {
   "cell_type": "markdown",
   "metadata": {},
   "source": [
    "<div class = \"alert alert-success\">\n",
    "    \n",
    "**Objectifs de la séquence:** \n",
    "    \n",
    "- Prinicpe de base du chiffrement RSA\n",
    "- Générer des clefs publiques et privées d'un chiffrement asymétrique\n",
    "- Retrouver la clef privée à partir de la clef publique: Casser le chiffrement\n",
    "</div>\n",
    "\n",
    "![RSA](https://github.com/ebuonocore/NSIT_15_securisation_communication/blob/main/sources/NSIT_15_cadenas.png?raw=true)\n",
    "<span style=\"font-family:Comic Sans MS; color:gray; font-size: x-small;float:right \">Source: Cadenas d'après freepng.com</span> "
   ]
  },
  {
   "cell_type": "markdown",
   "metadata": {},
   "source": [
    "<div class = \"alert alert-info\">\n",
    "    \n",
    "**Sommaire :**\n",
    "- <a href=#rappels>Petits rappels:</a> Modulo, nombres premiers, premiers entre eux\n",
    "- <a href=#principe>Principe de fonctionnement du RSA</a> \n",
    "- <a href=#implementation>Implémentation</a> \n",
    "- <a href=#premier_hack>Premier test d'attaque</a> \n",
    "- <a href=#generalisation>Généralisation du cassage</a> \n",
    "- <a href=#limites>Limites de l'exercice</a> "
   ]
  },
  {
   "cell_type": "markdown",
   "metadata": {},
   "source": [
    "<div id=\"rappels\"></div>\n",
    "\n",
    "# Petits rappels"
   ]
  },
  {
   "cell_type": "markdown",
   "metadata": {},
   "source": [
    "Le chiffrement RSA repose sur l'**arithmétique modulaire** (calculs basés sur l'opération **modulo**) et la reherche de **primalité** (recherche de nombres premiers, factorisation).  "
   ]
  },
  {
   "cell_type": "markdown",
   "metadata": {},
   "source": [
    "<div class = \"alert alert-success\">\n",
    "Le <b>modulo</b> est une opération qui au couple (a, b) d'entiers, associe le <b>reste</b> de la <b>division euclidienne</b> de a par b."
   ]
  },
  {
   "cell_type": "markdown",
   "metadata": {},
   "source": [
    "<table style=\"border:solid 1px;\">\n",
    "    <tr>\n",
    "        <td style=\"border:solid 1px;\"><b>N</b></td>\n",
    "        <td style=\"border:solid 1px;\">0</td>\n",
    "        <td style=\"border:solid 1px;\">1</td>\n",
    "        <td style=\"border:solid 1px;\">2</td>\n",
    "        <td style=\"border:solid 1px;\">3</td>\n",
    "        <td style=\"border:solid 1px;\">4</td>\n",
    "        <td style=\"border:solid 1px;\">5</td>\n",
    "        <td style=\"border:solid 1px;\">6</td>\n",
    "        <td style=\"border:solid 1px;\">7</td>\n",
    "        <td style=\"border:solid 1px;\">8</td>\n",
    "        <td style=\"border:solid 1px;\">9</td>\n",
    "        <td style=\"border:solid 1px;\">10</td>\n",
    "    </tr>\n",
    "    <tr>\n",
    "        <td style=\"border:solid 1px;\"><b>N%3</b></td>\n",
    "        <td style=\"border:solid 1px;\">0</td>\n",
    "        <td style=\"border:solid 1px;\">1</td>\n",
    "        <td style=\"border:solid 1px;\">2</td>\n",
    "        <td style=\"border:solid 1px;\">0</td>\n",
    "        <td style=\"border:solid 1px;\">1</td>\n",
    "        <td style=\"border:solid 1px;\">2</td>\n",
    "        <td style=\"border:solid 1px;\">0</td>\n",
    "        <td style=\"border:solid 1px;\">1</td>\n",
    "        <td style=\"border:solid 1px;\">2</td>\n",
    "        <td style=\"border:solid 1px;\">0</td>\n",
    "        <td style=\"border:solid 1px;\">1</td>\n",
    "    </tr>\n",
    "</table>"
   ]
  },
  {
   "cell_type": "code",
   "execution_count": null,
   "metadata": {},
   "outputs": [],
   "source": [
    "7%3"
   ]
  },
  {
   "cell_type": "markdown",
   "metadata": {},
   "source": [
    "<div class = \"alert alert-success\">\n",
    "<b>Nombre premier:</b> qui ne peut être divisé que par lui-même et par 1. "
   ]
  },
  {
   "cell_type": "markdown",
   "metadata": {},
   "source": [
    "Ecrire une fonction <code>tester_premier(x)</code> qui renvoie <code>True</code> si un nombre x est premier.  \n",
    "Note: Dans un premier temps on tester les restes des divisions euclidiennes de x avec tous les nombres compris entre 2 et (x-1)"
   ]
  },
  {
   "cell_type": "code",
   "execution_count": null,
   "metadata": {},
   "outputs": [],
   "source": [
    "def tester_premier(x):\n",
    "    \"\"\" Renvoie True si x est un nombre premier. Sinon, renvoie False.\n",
    "    \"\"\"\n",
    "    assert x >= 2, \"Le nombre testé doit être supérieur à 1\"\n",
    "    ...\n",
    "\n",
    "# Affiche la suite des nombres premiers inférieurs à 80\n",
    "print(\"Liste des nombres premiers inférieurs à 80:\\n [1\", end=\"\")\n",
    "for N in range(2,80):\n",
    "    if tester_premier(N):\n",
    "        print(\",\", N, end=\"\")\n",
    "print(\"]\")"
   ]
  },
  {
   "cell_type": "markdown",
   "metadata": {},
   "source": [
    "<details style=\"details[open] summary::-webkit-details-marker { color:#eaeaea; background:#f7f7f7; outline: 1px\n",
    "solid #ADCA48;}\">\n",
    "<summary style=\"summary::-webkit-details-marker { color:#ADCA48; background:#e2ecda;} \">\n",
    "    &#x2705; Correction (sans optimisation)</summary>\n",
    "<code>\n",
    "def tester_premier(x:int)->bool:\n",
    "    \"\"\" Renvoie True si x est un nombre premier. Sinon, renvoie False.\n",
    "    \"\"\"\n",
    "    assert x >= 2, \"Le nombre testé doit être supérieur à 1\"\n",
    "    test = True\n",
    "    for i in range (2, x):\n",
    "        if x%i == 0: # J'ai trouvé un nombre i qui divise x\n",
    "            test = False # x n'est donc pas un nombre entier\n",
    "            break \n",
    "    return test\n",
    "</code>\n",
    "</details>"
   ]
  },
  {
   "cell_type": "markdown",
   "metadata": {},
   "source": [
    "<details style=\"details[open] summary::-webkit-details-marker { color:#eaeaea; background:#f7f7f7; outline: 1px\n",
    "solid #ADCA48;}\">\n",
    "<summary style=\"summary::-webkit-details-marker { color:#ADCA48; background:#e2ecda;} \">\n",
    "    &#x1F6E0; Optimisations</summary>\n",
    "On peut accélérer la recherche en s'arrêtant à la racine de x, inutile d'aller plus loin.<br>\n",
    "De même, on peut tester la divisibilité par 2 puis sauter tous les nombres paires.<br>\n",
    "On peut aussi faire appel aux <a href=\"https://fr.wikipedia.org/wiki/Crible_d%27%C3%89ratosth%C3%A8ne\">cribles Ératosthène</a> ou son amélioration, le <a href=\"https://fr.wikipedia.org/wiki/Crible_d%27Atkin\">crible d'Atkin</a>.\n",
    "</details>"
   ]
  },
  {
   "cell_type": "markdown",
   "metadata": {},
   "source": [
    "<div class = \"alert alert-success\">\n",
    "<b>Nombres premiers entre eux:</b> Deux nombres entiers sont dits premiers entre eux lorsqu'il n'admette aucun diviseur commun, sinon l'unité.<br>Par exemple 14 et 15 sont premiers entre eux, mais pas 12 et 15 qui admettent 3 comme diviseur commun."
   ]
  },
  {
   "cell_type": "markdown",
   "metadata": {},
   "source": [
    "Le code suivant permet de calculer le plus grand commun diviseur entre deux nombres a et b.   \n",
    "Faites des tests."
   ]
  },
  {
   "cell_type": "code",
   "execution_count": null,
   "metadata": {},
   "outputs": [],
   "source": [
    "def pgcd(a,b):\n",
    "    \"\"\"Renvoie le pgcd de a et b.\"\"\"\n",
    "    while b:\n",
    "        a, b = b, a%b\n",
    "    return a\n",
    "\n",
    "pgcd(12,15)"
   ]
  },
  {
   "cell_type": "markdown",
   "metadata": {},
   "source": [
    "**Q1-** Que doit renvoyer cette fonction si deux nombres sont premiers entre eux? "
   ]
  },
  {
   "cell_type": "markdown",
   "metadata": {},
   "source": [
    "..."
   ]
  },
  {
   "cell_type": "markdown",
   "metadata": {},
   "source": [
    "<details style=\"details[open] summary::-webkit-details-marker { color:#eaeaea; background:#f7f7f7; outline: 1px\n",
    "solid #ADCA48;}\">\n",
    "<summary style=\"summary::-webkit-details-marker { color:#ADCA48; background:#e2ecda;} \">\n",
    "    &#x1F511; Aide</summary>\n",
    "Faites des tests:<br>\n",
    "<code>pgcd(12,15)</code><br>\n",
    "<code>pgcd(14,15)</code><br>\n",
    "<code>pgcd(20,30)</code><br>\n",
    "<code>pgcd(9,49)</code><br>\n",
    "</details>"
   ]
  },
  {
   "cell_type": "markdown",
   "metadata": {},
   "source": [
    "<div id=\"principe\"></div>\n",
    "\n",
    "# Principe de fonctionnement du RSA"
   ]
  },
  {
   "cell_type": "markdown",
   "metadata": {},
   "source": [
    "Bob doit envoyer un message à Alice.  \n",
    "**Etape 1:** Alice génère deux clefs dont les paramtres sont liés mathématiquement.  \n",
    "Nous les désigneront par deux couples d'entiers ($e$,$n$) pour la <span style=\"color: #00aa00;\">**clef publique**</span> et ($d$,$n$) pour la <span style=\"color: #aa0000;\">**clef privée**</span>.  \n",
    "Où $e$ et $d$ sont deux nombres a priori différents, mais $n$ désigne bien le même nombre dans les deux clefs."
   ]
  },
  {
   "cell_type": "markdown",
   "metadata": {},
   "source": [
    "![Génération_des_clefs](https://github.com/ebuonocore/NSIT_15_securisation_communication/blob/main/a_casser_un_pseudo_RSA/images/NSIT_15a_RSA_1.png?raw=true)"
   ]
  },
  {
   "cell_type": "markdown",
   "metadata": {},
   "source": [
    "**Etape 2:** Alice diffuse sa clef à Bob sur un canal **non sécurisé** (a priori, tout le monde peut la voir)"
   ]
  },
  {
   "cell_type": "markdown",
   "metadata": {},
   "source": [
    "![Génération_des_clefs](https://github.com/ebuonocore/NSIT_15_securisation_communication/blob/main/a_casser_un_pseudo_RSA/images/NSIT_15a_RSA_2.png?raw=true)"
   ]
  },
  {
   "cell_type": "markdown",
   "metadata": {},
   "source": [
    "**Etape 3:** Maintenant, Bob effectue le chiffrement de son message grâce à la <span style=\"color: #00aa00;\">**clef publique**</span> d'Alice.  \n",
    "Là, même avec sa <span style=\"color: #00aa00;\">**clef publique**</span>, Bob ne pourra plus déchiffrer le message qu'il vient de générer."
   ]
  },
  {
   "cell_type": "markdown",
   "metadata": {},
   "source": [
    "![Génération_des_clefs](https://github.com/ebuonocore/NSIT_15_securisation_communication/blob/main/a_casser_un_pseudo_RSA/images/NSIT_15a_RSA_3.png?raw=true)"
   ]
  },
  {
   "cell_type": "markdown",
   "metadata": {},
   "source": [
    "**Etape 4:** Il transmet ce message chiffré à Alice qui va pouvoir effectuer l'opération de déchiffrement.  \n",
    "Seule sa <span style=\"color: #aa0000;\">**clef privée**</span> est capable de le faire."
   ]
  },
  {
   "cell_type": "markdown",
   "metadata": {},
   "source": [
    "![Génération_des_clefs](https://github.com/ebuonocore/NSIT_15_securisation_communication/blob/main/a_casser_un_pseudo_RSA/images/NSIT_15a_RSA_4.png?raw=true)"
   ]
  },
  {
   "cell_type": "markdown",
   "metadata": {},
   "source": [
    "<div class = \"alert alert-success\">\n",
    "<b>Pas de panique:</b> <br>\n",
    "Ce qui suit peut paraître complexe. C'est prinicpalement là pour permettre à ceux qui le souhaite d'aller plus loin.<br>\n",
    "Vous devez juste retenir que l'obtention des clefs est une procédure mécanique à partir du moment où on a déterminé les deux premières valeurs ($p$ et $q$).<br>\n",
    "S'il faut retenir une formule, c'est celle-là: $n = p * q$"
   ]
  },
  {
   "cell_type": "markdown",
   "metadata": {},
   "source": [
    "Sans rentrer dans les justifications et les démonstrations mathématiques, nous allons voir comment sont générées les clefs.  \n",
    "<div style=\"display:flex;\">\n",
    "    <div style=\"display:inline;width:50%;border: solid;border: 1px solid;padding: 2px;\">\n",
    "        <u><center>Formules générales</center></u>\n",
    "- On commence par choisir deux nombres premiers: $p$ et $q$<br>\n",
    "- On peut alors calculer directement les valeurs de $n$ et de $f$ <br> \n",
    "$n = p*q $<br>\n",
    "$f = (p-1)*(q-1)$<br>\n",
    "- On cherche maintenant une valeur de $e$ telle que $e$ premier avec $f$<br>\n",
    "- Il ne reste plus qu'à trouver une valeur de $d$ qui vérifie $(e*d) \\% f = 1 $<br>\n",
    "        </div>\n",
    "        <div style=\"display:inline;width:50%;border: solid;border: 1px solid;padding: 2px;\">\n",
    "            <u><center>Avec un exemple</center></u>\n",
    "$p = 13$ et $q = 19$ choisis au hasard<br>\n",
    "$n = 13 * 19 \\Rightarrow n = 247$<br>\n",
    "$f = (13-1) * (19-1) \\Rightarrow f = 216$<br>\n",
    "- En essayant par force brute différentes valeurs de $e$, je finis par trouver $pgcd(5,216) = 1 \\Rightarrow e = 5$<br>\n",
    "- Connaissant $e$ et $f$, je peux faire croître $d$ jusqu'à trouver $(173*d) \\% 247 = 1 \\Rightarrow d = 5$\n",
    "    </div>\n",
    "</div>"
   ]
  },
  {
   "cell_type": "markdown",
   "metadata": {},
   "source": [
    "![Génération_des_clefs](https://github.com/ebuonocore/NSIT_15_securisation_communication/blob/main/a_casser_un_pseudo_RSA/images/NSIT_15a_organigramme_clefs.png?raw=true)  "
   ]
  },
  {
   "cell_type": "markdown",
   "metadata": {},
   "source": [
    "C'est un peu laborieux, mais à partir de deux valeurs $p$ et $q$, nous avons obtenu nos deux clefs.  \n",
    "Pour finir, voici les formules utilisées pour chiffrer et déchiffrer chaque élément du message.  \n"
   ]
  },
  {
   "cell_type": "markdown",
   "metadata": {},
   "source": [
    "![Fonctions](https://github.com/ebuonocore/NSIT_15_securisation_communication/blob/main/a_casser_un_pseudo_RSA/images/NSIT_15a_transfert.png?raw=true)  "
   ]
  },
  {
   "cell_type": "markdown",
   "metadata": {},
   "source": [
    "<div id=\"implementation\"></div>\n",
    "\n",
    "# Implémentation"
   ]
  },
  {
   "cell_type": "markdown",
   "metadata": {},
   "source": [
    "Les fonctions pour générer les clefs à partir de p et q sont données.  \n",
    "Pensez à les exécuter pour assurer le bon fonctionnement de l'exercice."
   ]
  },
  {
   "cell_type": "code",
   "execution_count": null,
   "metadata": {},
   "outputs": [],
   "source": [
    "def calculer_e(p:int, q:int)->int:\n",
    "    \"\"\"Renvoie la plus petite valeur possible de e pour p et q.\"\"\"\n",
    "    tab = []\n",
    "    f = (p-1)*(q-1)\n",
    "    v = 2\n",
    "    while pgcd(v, f) != 1 and v < f:\n",
    "        v += 1\n",
    "    return v\n",
    "\n",
    "\n",
    "def calculer_d(p:int, q:int, e:int)->int:\n",
    "    \"\"\"Renvoie une valeur de d pour p, q et e.\"\"\"\n",
    "    d = 2\n",
    "    f = (p-1)*(q-1)\n",
    "    while (d*e) % f != 1 and d < f:\n",
    "        d += 1\n",
    "    return d\n",
    "\n",
    "\n",
    "def generer_clefs(p:int, q:int)->tuple:\n",
    "    \"\"\"\n",
    "    Renvoie un couple de clés généré à partir des nombres premiers p et q.\n",
    "\n",
    "    \"\"\"\n",
    "    e = calculer_e(p, q)\n",
    "    d = calculer_d(p, q, e)\n",
    "    n = p * q\n",
    "    return ((e, n), (d, n))"
   ]
  },
  {
   "cell_type": "markdown",
   "metadata": {},
   "source": [
    "L'exécution du code suivant va permettre de vérifier les valeurs de l'exemple précédent:"
   ]
  },
  {
   "cell_type": "code",
   "execution_count": null,
   "metadata": {},
   "outputs": [],
   "source": [
    "p = 13\n",
    "q = 19\n",
    "clef_publique, clef_privée = generer_clefs(p, q)\n",
    "print(\"Clef publique :\\t\",clef_publique)\n",
    "print(\"Clef privée :\\t\", clef_privée)"
   ]
  },
  {
   "cell_type": "markdown",
   "metadata": {},
   "source": [
    "On donne aussi les fonctions pour chiffrer et déchiffrer un message:"
   ]
  },
  {
   "cell_type": "code",
   "execution_count": null,
   "metadata": {},
   "outputs": [],
   "source": [
    "def chiffrer(x:list, clef_publique:tuple)->list:\n",
    "    \"\"\" Connaissant les éléments de la clef publique (e, n)\n",
    "        x est la chaine de caractères à chiffrer\n",
    "        Renvoie la liste des entiers correspondants au chiffrage RSA de chaque élément de x\n",
    "        Formule du chiffrement RSA: y = x^e mod n\n",
    "        (Méthode lente sans exponentiation modulaire)\n",
    "    \"\"\"\n",
    "    e, n = clef_publique\n",
    "    x_bytes = bytes(x, 'utf-8') # Conversion en bytes de la chaîne x\n",
    "    y = []\n",
    "    for élément in x_bytes:\n",
    "        y.append((élément**e)%n) # Chiffrement de chaque byte\n",
    "    return y\n",
    "\n",
    "\n",
    "def déchiffrer(y:list, clef_privée)->list:\n",
    "    \"\"\" Connaissant y, la liste des entiers correspondants aux codes UTF_8 des caractères du message chiffré\n",
    "        et la clef privée (d, n)\n",
    "        Renvoie la chaîne de caractères correspondant au message déchiffré\n",
    "        Formule du déchiffrement RSA: z = y^d mod n\n",
    "        (Méthode lente sans exponentiation modulaire)\n",
    "    \"\"\"\n",
    "    d, n = clef_privée\n",
    "    z = []\n",
    "    for élément in y:\n",
    "        z.append((élément**d)%n) # Déchiffrement de chaque élément de la liste\n",
    "    b = bytearray(z) # Conversion de la liste de nombres en suite de bytes\n",
    "    x = b.decode('utf8', errors='ignore') # Conversion de la suite de bytes en chaîne de caractères\n",
    "    return x"
   ]
  },
  {
   "cell_type": "code",
   "execution_count": null,
   "metadata": {},
   "outputs": [],
   "source": [
    "mon_message = \"On se voit demain?\"\n",
    "clef_publique = (5, 247)\n",
    "clef_privée = (173, 247)\n",
    "message_codé = chiffrer(mon_message, clef_publique)\n",
    "print(\"Message chiffré :\", message_codé)\n",
    "message_décodé = déchiffrer(message_codé, clef_privée)\n",
    "print(\"Message déchiffré :\", message_décodé)"
   ]
  },
  {
   "cell_type": "markdown",
   "metadata": {},
   "source": [
    "<div class = \"alert alert-success\">\n",
    "    <b> Vous devez retenir :</b><br>\n",
    "- Comment générer les clefs à partir de $p$ et $q$ choisis.<br>\n",
    "- Comment appeler les fonctions de chiffrement et de déchiffrement"
   ]
  },
  {
   "cell_type": "markdown",
   "metadata": {},
   "source": [
    "**A vous de jouer:**  \n",
    "On vous donne $p = 11$ et $q = 43$  \n",
    "Vérifiez que $p$ et $q$ sont biens deux nombres permiers.  \n",
    "Générez les clefs publiques et privées à partir de $p$ et $q$.  \n",
    "Avec la clef publique, chiffrez le message **\"Pas de soucis!\"** et affichez la liste correspondant au message chiffré.  \n",
    "Effectuez le déchiffrement de ce message avec la clef privée, et comparez avec le message d'origine."
   ]
  },
  {
   "cell_type": "code",
   "execution_count": null,
   "metadata": {},
   "outputs": [],
   "source": [
    "..."
   ]
  },
  {
   "cell_type": "markdown",
   "metadata": {},
   "source": [
    "<details style=\"details[open] summary::-webkit-details-marker { color:#eaeaea; background:#f7f7f7; outline: 1px\n",
    "solid #ADCA48;}\">\n",
    "<summary style=\"summary::-webkit-details-marker { color:#ADCA48; background:#e2ecda;} \">\n",
    "    &#x2705; Correction</summary>\n",
    "<code>\n",
    "p = 11\n",
    "q = 43\n",
    "clef_publique, clef_privée = generer_clefs(p, q)\n",
    "print(\"Clef publique :\\t\",clef_publique)\n",
    "print(\"Clef privée :\\t\", clef_privée)\n",
    "mon_message = \"Pas de soucis!\"\n",
    "message_codé = chiffrer(mon_message, clef_publique)\n",
    "print(\"Message chiffré :\", message_codé)\n",
    "message_décodé = déchiffrer(message_codé, clef_privée)\n",
    "print(\"Message déchiffré :\", message_décodé)\n",
    "</code>\n",
    "</details>"
   ]
  },
  {
   "cell_type": "markdown",
   "metadata": {},
   "source": [
    "<div id=\"premier_hack\"></div>\n",
    "\n",
    "# Premier test d'attaque"
   ]
  },
  {
   "cell_type": "markdown",
   "metadata": {},
   "source": [
    "Vous avez intercepté un message chiffré et vous connaissez la clef publique du destinataire:"
   ]
  },
  {
   "cell_type": "code",
   "execution_count": null,
   "metadata": {},
   "outputs": [],
   "source": [
    "message_chiffré = [177, 286, 241, 22, 223, 9, 101, 165, 9, 101, 223, 168, 241, 131, 65, 9, 101, 223, 96, 211]\n",
    "clef_publique = (5, 323)"
   ]
  },
  {
   "cell_type": "markdown",
   "metadata": {},
   "source": [
    "Êtes-vous capable de retrouver $p$ et $q$ à partir de ces informations ?"
   ]
  },
  {
   "cell_type": "code",
   "execution_count": null,
   "metadata": {},
   "outputs": [],
   "source": [
    "p = ...\n",
    "q = ..."
   ]
  },
  {
   "cell_type": "markdown",
   "metadata": {},
   "source": [
    "<details style=\"details[open] summary::-webkit-details-marker { color:#eaeaea; background:#f7f7f7; outline: 1px\n",
    "solid #ADCA48;}\">\n",
    "<summary style=\"summary::-webkit-details-marker { color:#ADCA48; background:#e2ecda;} \">\n",
    "    &#x1F511; Aide</summary>\n",
    "Petit coup de pouce: $p$ et $q$ sont tous deux supérieurs à 10.<br>\n",
    "Vous savez que ce sont des nombres premiers...<br>\n",
    "Et que leur produit vaut 323. En effet: $n = p * q$\n",
    "</details>"
   ]
  },
  {
   "cell_type": "markdown",
   "metadata": {},
   "source": [
    "Si vous avez trouvé $p$ et $q$, il ne vous reste plus qu'à générer les clefs avec les fonctions données plus haut.  \n",
    "Vous retrouverez la <span style=\"color: #aa0000;\">**clef privée**</span>.  \n",
    "Il ne vous reste plus qu'à effectuer le déchiffrement et vous retrouverez le message d'origine!"
   ]
  },
  {
   "cell_type": "code",
   "execution_count": null,
   "metadata": {},
   "outputs": [],
   "source": [
    "..."
   ]
  },
  {
   "cell_type": "markdown",
   "metadata": {},
   "source": [
    "<details style=\"details[open] summary::-webkit-details-marker { color:#eaeaea; background:#f7f7f7; outline: 1px\n",
    "solid #ADCA48;}\">\n",
    "<summary style=\"summary::-webkit-details-marker { color:#ADCA48; background:#e2ecda;} \">\n",
    "    &#x2705; Correction</summary>\n",
    "<code>\n",
    "p = 17\n",
    "q = 19\n",
    "clef_publique, clef_privée = generer_clefs(p, q)\n",
    "message_décodé = déchiffrer(message_chiffré, clef_privée)\n",
    "print(\"Message déchiffré :\", message_décodé)\n",
    "</code>\n",
    "</details>"
   ]
  },
  {
   "cell_type": "markdown",
   "metadata": {},
   "source": [
    "<div id=\"generalisation\"></div>\n",
    "\n",
    "# Généralisation du cassage"
   ]
  },
  {
   "cell_type": "markdown",
   "metadata": {},
   "source": [
    "Cette fois, la clef publique est un peu plus complexe.  \n",
    "Nous allons nous interdire de retrouver la factorisation de $n$ à la main."
   ]
  },
  {
   "cell_type": "code",
   "execution_count": null,
   "metadata": {},
   "outputs": [],
   "source": [
    "message_chiffré = [314, 105, 3169, 631, 94, 105, 1543, 631, 1296, 2218, 631, 1306, 2223, 2218, 1306, 956, 956, 956]\n",
    "clef_publique = (5, 5963)"
   ]
  },
  {
   "cell_type": "markdown",
   "metadata": {},
   "source": [
    "Ecrivez une fonction <code>factoriser_premiers(n)</code> qui permet de retrouver les deux nombres premiers dont le produit donne $n$. (On fera l'hypothèse qu'ils existent)  \n",
    "On peut utiliser la fontion <code>tester_premier(x)</code> vue au tout début pour reconstruire une liste de nombres premiers."
   ]
  },
  {
   "cell_type": "code",
   "execution_count": null,
   "metadata": {},
   "outputs": [],
   "source": [
    "def lister_premiers(n:int)->list:\n",
    "    \"\"\" Renvoie la liste des nombres premiers inférieurs à n\n",
    "    \"\"\"\n",
    "    ...\n",
    "\n",
    "def factoriser_premiers(n:int)->tuple:\n",
    "    \"\"\" Renvoie le couple de nombres premiers qui vérifie p * q = n\n",
    "        Si la décomposition en produit de facteurs premiers et impossible, renvoie None\n",
    "    \"\"\"\n",
    "    ...\n",
    "\n",
    "factoriser_premiers(5963)"
   ]
  },
  {
   "cell_type": "markdown",
   "metadata": {},
   "source": [
    "<details style=\"details[open] summary::-webkit-details-marker { color:#eaeaea; background:#f7f7f7; outline: 1px\n",
    "solid #ADCA48;}\">\n",
    "<summary style=\"summary::-webkit-details-marker { color:#ADCA48; background:#e2ecda;} \">\n",
    "    &#x2705; Correction</summary>\n",
    "<code>\n",
    "def lister_premiers(n:int)->list:\n",
    "    \"\"\" Renvoie la liste des nombres premiers inférieurs à n\n",
    "    \"\"\"\n",
    "    liste_premiers = [1, 2] # On peut saisir manuellement ces deux premiers éléments\n",
    "    for i in range(3,n,2): # Cela permet d'optimiser un peu la recherche des suivants\n",
    "        if tester_premier(i):\n",
    "            liste_premiers.append(i)\n",
    "    return liste_premiers\n",
    "\n",
    "def factoriser_premiers(n:int)->tuple:\n",
    "    \"\"\" Renvoie le couple de nombres premiers qui vérifie p * q = n\n",
    "        Si la décomposition en produit de facteurs premiers et impossible, renvoie None\n",
    "    \"\"\"\n",
    "    liste_premiers = lister_premiers(n) # On dispose d'une liste suffisante de nombres premiers\n",
    "    for i in range(len(liste_premiers)):\n",
    "        for j in range(i):\n",
    "            if liste_premiers[i] * liste_premiers[j] == n:\n",
    "                return (liste_premiers[i],liste_premiers[j])\n",
    "    return None\n",
    "\n",
    "factoriser_premiers(5963)\n",
    "</code>\n",
    "</details>"
   ]
  },
  {
   "cell_type": "markdown",
   "metadata": {},
   "source": [
    "Maintenant que nous avons trouvé $p$ et $q$, il ne reste plus qu'à retrouver la <span style=\"color: #aa0000;\">**clef privée**</span> et à déchiffrer le message..."
   ]
  },
  {
   "cell_type": "code",
   "execution_count": null,
   "metadata": {},
   "outputs": [],
   "source": []
  },
  {
   "cell_type": "markdown",
   "metadata": {},
   "source": [
    "<div id=\"limites\"></div>\n",
    "\n",
    "# Limites de l'exercice"
   ]
  },
  {
   "cell_type": "markdown",
   "metadata": {},
   "source": [
    "Nous allons nous intéresser maintenant à la complexité de cette algorithme: Comment évolue le temps de calcul pour trouver $p$ et $q$ en fonction de $n$?  \n",
    "Ecrice la foncion <code>trace_reponse_temporelle(n)</code> qui calcule et trace l'évolution du temps de calcul en fonction de n."
   ]
  },
  {
   "cell_type": "code",
   "execution_count": null,
   "metadata": {},
   "outputs": [],
   "source": [
    "import time\n",
    "import matplotlib.pyplot as plt \n",
    "\n",
    "def trace_reponse_temporelle(n:int):\n",
    "    \"\"\" Prend l'entier n en paramètre.\n",
    "        Cherche si n admet une décomposition en produit de facteurs premiers\n",
    "        Si c'est le cas, les valeurs de n et le temps de calcul sont mémorisés\n",
    "        Trace le graphique du temps de calcul en fonction de n\n",
    "    \"\"\"\n",
    "    temps = []\n",
    "    liste_n = []\n",
    "    ...\n",
    "    plt.plot(liste_n, temps) # trace le graphique\n",
    "    plt.grid() # affiche la grille\n",
    "    plt.show() # affiche le graphique\n",
    "\n",
    "trace_reponse_temporelle(1000)"
   ]
  },
  {
   "cell_type": "markdown",
   "metadata": {},
   "source": [
    "<details style=\"details[open] summary::-webkit-details-marker { color:#eaeaea; background:#f7f7f7; outline: 1px\n",
    "solid #ADCA48;}\">\n",
    "<summary style=\"summary::-webkit-details-marker { color:#ADCA48; background:#e2ecda;} \">\n",
    "    &#x2705; Correction</summary>\n",
    "<code>\n",
    "import time\n",
    "import matplotlib.pyplot as plt \n",
    "\n",
    "def trace_reponse_temporelle(n:int):\n",
    "    \"\"\" Prend l'entier n en paramètre.\n",
    "        Cherche si n admet une décomposition en produit de facteurs premiers\n",
    "        Si c'est le cas, les valeurs de n et le temps de calcul sont mémorisés\n",
    "        Trace le graphique du temps de calcul en fonction de n\n",
    "    \"\"\"\n",
    "    temps = []\n",
    "    liste_n = []\n",
    "    for i in range(n):\n",
    "        temps_debut = time.time()\n",
    "        if factoriser_premiers(i) != None:\n",
    "            temps_fin = time.time()\n",
    "            temps.append(temps_fin - temps_debut)\n",
    "            liste_n.append(i)\n",
    "    plt.plot(liste_n, temps) # trace le graphique\n",
    "    plt.grid() # affiche la grille\n",
    "    plt.show() # affiche le graphique\n",
    "\n",
    "trace_reponse_temporelle(2000)\n",
    "</code>\n",
    "</details>"
   ]
  },
  {
   "cell_type": "markdown",
   "metadata": {},
   "source": [
    "Il faudrait pousser plus loin la construction du graphique, avec une valeur de n plus grande, pour voir se dessiner une évolution franchement polynomiale ou exponentielle.  \n",
    "Dans les faits, les dimensions des clefs sont suffisamment grandes pour rendre irréaliste la factorisation de n.\n",
    "\n",
    "Une précondition sur les valeurs de $p$ et $q$ a été passée sous silence: Si $n$ est trop petit le chiffrement ne fonctionne plus. Faites des essais avec $p = 11$ et $q=13$. Si votre message comprend des caractères exotiques, ils ne passeront pas.\n",
    "\n",
    "Les algorithmes présentés ici sont un peu \"brutaux\" pour simplifier l'approche.  \n",
    "La listes des nombres premiers et systématiquement recalculée 😕.  \n",
    "Pour plus d'efficacité, il faudrait faire appel à:  \n",
    "- l'algorithme d'Euclide étendu pour optimiser le calcul des clefs\n",
    "- l'exponentiation modulaire pour accélérer les calculs de puissance\n",
    "- les crible d'Ératosthène ou d'Atkin pour trouver rapidement les nombres premiers  \n",
    "\n",
    "Ces éléments, ainsi que les preuves mathématiques du fonctionnement de ce chiffrement sont présentés dans les sources \"Pour aller beaucoup pus loin avec Exo7\""
   ]
  },
  {
   "cell_type": "markdown",
   "metadata": {},
   "source": [
    "---\n",
    "<p style=\"font-family:Comic Sans MS; text-align: center; color:gray; font-size: x-small; \">- Eric Buonocore. avril 2021 -<br></p>\n",
    "\n",
    "![Licence CC BY NC SA](https://licensebuttons.net/l/by-nc-sa/3.0/88x31.png)"
   ]
  },
  {
   "cell_type": "markdown",
   "metadata": {},
   "source": [
    "Sources:\n",
    "- <a href=\"https://www.youtube.com/watch?v=7W7WPMX7arI\">Cookie connecté: Comprendre le chiffrement SSL / TLS avec des emojis (et le HTTPS)</a> 9min33s\n",
    "- <a href=\"https://www.youtube.com/watch?v=rO5aQzgKOs0\">String Theory par Science4All: Hashage et empreintes cryptographiques - CRYPTO#05</a> 5min33s  \n",
    "- David Louapre de Science étonnante :  \n",
    "<a href=\"https://www.youtube.com/watch?v=z4tkHuWZbRA\">Comment déchiffrer (presque) n'importe quel message codé ? 🔑🔓📜</a> 13min24s  \n",
    "<a href=\"https://www.youtube.com/watch?v=8BM9LPDjOw0\">Les codes secrets</a>  \n",
    "- <a href=\"https://www.youtube.com/watch?v=Y2bsLRdVBP85min\">String Theory par Science4All: La magie du protocole RSA -CRYPTO#12</a> 5min05s  \n",
    "- <a href=\"https://interstices.info/les-livraisons-dangereuses/\">Les livraisons dangereuses</a>  \n",
    "\n",
    "- Pour aller plus loin:  \n",
    "<a href=\"https://interstices.info/nombres-premiers-et-cryptologie-lalgorithme-rsa/\">Interstices: Nombres premiers et cryptologie : l’algorithme RSA</a>  \n",
    "<a href=\"http://villemin.gerard.free.fr/Crypto/RSA.htm\">Gérard Villemin: Cryptologie</a>  \n",
    "\n",
    "- Pour aller beaucoup pus loin avec Exo7:  \n",
    "<a href=\"https://pod.univ-lille.fr/exo7/cryptographie/\">Les vidéos du Mooc d'Exo7 sur la cryptographie</a>  \n",
    "<a href=\"http://exo7.emath.fr/cours/livre-mooc-exo7.pdf\"> Le livre d'Exo7 sur la cryptographie</a>  "
   ]
  }
 ],
 "metadata": {
  "kernelspec": {
   "display_name": "Python 3",
   "language": "python",
   "name": "python3"
  },
  "language_info": {
   "codemirror_mode": {
    "name": "ipython",
    "version": 3
   },
   "file_extension": ".py",
   "mimetype": "text/x-python",
   "name": "python",
   "nbconvert_exporter": "python",
   "pygments_lexer": "ipython3",
   "version": "3.7.6"
  }
 },
 "nbformat": 4,
 "nbformat_minor": 1
}
